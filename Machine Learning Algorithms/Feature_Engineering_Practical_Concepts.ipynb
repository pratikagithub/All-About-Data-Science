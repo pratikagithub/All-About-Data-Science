{
  "nbformat": 4,
  "nbformat_minor": 0,
  "metadata": {
    "colab": {
      "provenance": [],
      "authorship_tag": "ABX9TyPjgEHdDljQKz0GgQ8b9kxo",
      "include_colab_link": true
    },
    "kernelspec": {
      "name": "python3",
      "display_name": "Python 3"
    },
    "language_info": {
      "name": "python"
    }
  },
  "cells": [
    {
      "cell_type": "markdown",
      "metadata": {
        "id": "view-in-github",
        "colab_type": "text"
      },
      "source": [
        "<a href=\"https://colab.research.google.com/github/pratikagithub/DS-Case-Studies/blob/main/Feature_Engineering_Practical_Concepts.ipynb\" target=\"_parent\"><img src=\"https://colab.research.google.com/assets/colab-badge.svg\" alt=\"Open In Colab\"/></a>"
      ]
    },
    {
      "cell_type": "markdown",
      "source": [
        "Feature Engineering is one of the steps that machine learning engineers spend most of their time on during model training. During interviews, many practical problems will be based on feature engineering to test your skills in preparing and selecting the right features for your model."
      ],
      "metadata": {
        "id": "H1Ket9TwDBWA"
      }
    },
    {
      "cell_type": "markdown",
      "source": [
        "**Feature Encoding for Categorical Variables**\n",
        "\n",
        "Categorical features must be converted into a numeric form for machine learning models. The choice of encoding method (e.g., one-hot encoding, label encoding, or target encoding) depends on the type of categorical data (nominal or ordinal) and the machine learning algorithm being used.\n",
        "\n",
        "***Example Problem: You are working on a dataset with a Region column containing categories like North, South, East, and West. How will you encode this column for use in both tree-based models and linear models?***\n",
        "\n",
        "For tree-based models, use label encoding (numeric mapping of categories). For linear models, use one-hot encoding to avoid imposing an ordinal relationship. Here’s how to solve it using Python:"
      ],
      "metadata": {
        "id": "DAYA7kYQDRhk"
      }
    },
    {
      "cell_type": "code",
      "execution_count": 1,
      "metadata": {
        "colab": {
          "base_uri": "https://localhost:8080/"
        },
        "id": "uV5tzZqgC2r9",
        "outputId": "723b3ba8-8b2b-44d3-9677-b0b72aea0a78"
      },
      "outputs": [
        {
          "output_type": "stream",
          "name": "stdout",
          "text": [
            "  Region  Region_Label  Region_East  Region_North  Region_South  Region_West\n",
            "0  North             1          0.0           1.0           0.0          0.0\n",
            "1  South             2          0.0           0.0           1.0          0.0\n",
            "2   East             0          1.0           0.0           0.0          0.0\n",
            "3   West             3          0.0           0.0           0.0          1.0\n",
            "4  North             1          0.0           1.0           0.0          0.0\n"
          ]
        }
      ],
      "source": [
        "import pandas as pd\n",
        "from sklearn.preprocessing import OneHotEncoder, LabelEncoder\n",
        "\n",
        "# sample data\n",
        "data = {'Region': ['North', 'South', 'East', 'West', 'North']}\n",
        "df = pd.DataFrame(data)\n",
        "\n",
        "# label encoding\n",
        "label_encoder = LabelEncoder()\n",
        "df['Region_Label'] = label_encoder.fit_transform(df['Region'])\n",
        "\n",
        "# one-hot encoding\n",
        "one_hot_encoder = OneHotEncoder(sparse_output=False)\n",
        "encoded = one_hot_encoder.fit_transform(df[['Region']])\n",
        "encoded_df = pd.DataFrame(encoded, columns=one_hot_encoder.get_feature_names_out(['Region']))\n",
        "\n",
        "# combine original data with one-hot encoded columns\n",
        "df = pd.concat([df, encoded_df], axis=1)\n",
        "print(df)"
      ]
    },
    {
      "cell_type": "markdown",
      "source": [
        "**Handling Missing Values**\n",
        "\n",
        "Missing values can distort the model’s performance. Common approaches include mean/median imputation for numerical features and mode or a special category for categorical features. Advanced techniques include predictive imputation using machine learning models.\n",
        "\n",
        "***Example Problem: You have a Salary column with missing values. Simply filling missing values with the mean is causing model bias. How will you handle these missing values effectively?***\n",
        "\n",
        "Use predictive imputation by training a regression model to predict missing values based on other features. Here’s how to solve it using Python:"
      ],
      "metadata": {
        "id": "n1mMfgwiDgQp"
      }
    },
    {
      "cell_type": "code",
      "source": [
        "from sklearn.linear_model import LinearRegression\n",
        "import numpy as np\n",
        "\n",
        "# sample data\n",
        "data = {'Age': [25, 30, 35, 40, 45], 'Salary': [50000, 60000, None, 80000, None]}\n",
        "df = pd.DataFrame(data)\n",
        "\n",
        "# separate rows with and without missing values\n",
        "df_with_missing = df[df['Salary'].isnull()]\n",
        "df_without_missing = df[df['Salary'].notnull()]\n",
        "\n",
        "# train a regression model to predict missing values\n",
        "model = LinearRegression()\n",
        "model.fit(df_without_missing[['Age']], df_without_missing['Salary'])\n",
        "predicted_salaries = model.predict(df_with_missing[['Age']])\n",
        "\n",
        "# fill missing values\n",
        "df.loc[df['Salary'].isnull(), 'Salary'] = predicted_salaries\n",
        "print(df)"
      ],
      "metadata": {
        "colab": {
          "base_uri": "https://localhost:8080/"
        },
        "id": "OUhvZe5xDlYc",
        "outputId": "5cab9b4e-e2ea-4bc1-e089-25dd54753705"
      },
      "execution_count": 2,
      "outputs": [
        {
          "output_type": "stream",
          "name": "stdout",
          "text": [
            "   Age   Salary\n",
            "0   25  50000.0\n",
            "1   30  60000.0\n",
            "2   35  70000.0\n",
            "3   40  80000.0\n",
            "4   45  90000.0\n"
          ]
        }
      ]
    },
    {
      "cell_type": "markdown",
      "source": [
        "**Feature Scaling for Numeric Variables**\n",
        "\n",
        "Scaling ensures that numeric features have comparable ranges, improving model convergence and performance. Methods include Standard Scaling (z-score), Min-Max Scaling, and Robust Scaling.\n",
        "\n",
        "***Example Problem: You are working on a dataset with numeric features like Age and Income. Income ranges from 10,000 to 1,000,000, while Age ranges from 18 to 80. How will you scale these features for models like Logistic Regression and KNN?***\n",
        "\n",
        "Use Standard Scaling (z-score normalization) for models like Logistic Regression and KNN to ensure all features are on the same scale. Here’s how to solve it using Python:"
      ],
      "metadata": {
        "id": "dr_rVUnODr1v"
      }
    },
    {
      "cell_type": "code",
      "source": [
        "from sklearn.preprocessing import StandardScaler\n",
        "\n",
        "# sample data\n",
        "data = {'Age': [18, 25, 30, 45, 60],\n",
        "        'Income': [20000, 50000, 100000, 200000, 500000]}\n",
        "df = pd.DataFrame(data)\n",
        "\n",
        "# standardize features\n",
        "scaler = StandardScaler()\n",
        "scaled_features = scaler.fit_transform(df)\n",
        "\n",
        "scaled_df = pd.DataFrame(scaled_features, columns=df.columns)\n",
        "print(scaled_df)"
      ],
      "metadata": {
        "colab": {
          "base_uri": "https://localhost:8080/"
        },
        "id": "syRYZCQoDwlp",
        "outputId": "f392ea70-110c-4769-f315-a1a79b8ffd5a"
      },
      "execution_count": 3,
      "outputs": [
        {
          "output_type": "stream",
          "name": "stdout",
          "text": [
            "        Age    Income\n",
            "0 -1.167023 -0.884648\n",
            "1 -0.702866 -0.712314\n",
            "2 -0.371325 -0.425091\n",
            "3  0.623296  0.149356\n",
            "4  1.617918  1.872697\n"
          ]
        }
      ]
    },
    {
      "cell_type": "markdown",
      "source": [
        "**Feature Interaction**\n",
        "\n",
        "Feature interactions capture non-linear relationships between features. Polynomial features (e.g., x1 * x2, x1^2) can significantly improve model performance if non-linear relationships.\n",
        "\n",
        "***Example Problem: You are working on a housing dataset where Size and Rooms are two numeric features. How will you create interaction features to capture their combined effect on Price?***\n",
        "\n",
        "\n",
        "Use PolynomialFeatures from sklearn to generate interaction terms and higher-order features. Here’s how to solve it using Python:"
      ],
      "metadata": {
        "id": "bzO2WCWNDzte"
      }
    },
    {
      "cell_type": "code",
      "source": [
        "from sklearn.preprocessing import PolynomialFeatures\n",
        "\n",
        "# sample data\n",
        "data = {'Size': [1000, 1500, 2000], 'Rooms': [3, 4, 5]}\n",
        "df = pd.DataFrame(data)\n",
        "\n",
        "# generate polynomial features\n",
        "poly = PolynomialFeatures(degree=2, interaction_only=True, include_bias=False)\n",
        "interaction_features = poly.fit_transform(df)\n",
        "\n",
        "interaction_df = pd.DataFrame(interaction_features,\n",
        "                              columns=poly.get_feature_names_out(['Size', 'Rooms']))\n",
        "print(interaction_df)"
      ],
      "metadata": {
        "colab": {
          "base_uri": "https://localhost:8080/"
        },
        "id": "B6zRg60_D3M5",
        "outputId": "ff316e04-9574-436e-9aec-fc19b2f67cf9"
      },
      "execution_count": 4,
      "outputs": [
        {
          "output_type": "stream",
          "name": "stdout",
          "text": [
            "     Size  Rooms  Size Rooms\n",
            "0  1000.0    3.0      3000.0\n",
            "1  1500.0    4.0      6000.0\n",
            "2  2000.0    5.0     10000.0\n"
          ]
        }
      ]
    },
    {
      "cell_type": "markdown",
      "source": [
        "**Feature Selection**\n",
        "\n",
        "Feature selection reduces dimensionality by retaining only the most important features. Methods include Univariate Selection (ANOVA, Chi-square), Recursive Feature Elimination (RFE), and Embedded Methods (Lasso, Tree-based models).\n",
        "\n",
        "***Example Problem: You are working on a dataset with 50 features, but only a few are relevant. How will you identify and retain only the important features?***\n",
        "\n",
        "Use Recursive Feature Elimination (RFE) with a machine learning model like Logistic Regression or Random Forest to rank and select features. Here’s how to solve it using Python:"
      ],
      "metadata": {
        "id": "9O5K-PaxD8j4"
      }
    },
    {
      "cell_type": "code",
      "source": [
        "from sklearn.feature_selection import RFE\n",
        "from sklearn.ensemble import RandomForestClassifier\n",
        "\n",
        "# simulated data\n",
        "np.random.seed(42)\n",
        "X = np.random.rand(100, 50)  # 50 features\n",
        "y = np.random.choice([0, 1], size=100)  # binary target\n",
        "\n",
        "# feature selection with RFE\n",
        "model = RandomForestClassifier()\n",
        "rfe = RFE(estimator=model, n_features_to_select=10)\n",
        "X_selected = rfe.fit_transform(X, y)\n",
        "\n",
        "print(\"Selected Features (Indices):\", rfe.get_support(indices=True))"
      ],
      "metadata": {
        "colab": {
          "base_uri": "https://localhost:8080/"
        },
        "id": "fwVx3qL8EECR",
        "outputId": "0cb376ec-0463-4393-d1c0-cfc799ed78e2"
      },
      "execution_count": 5,
      "outputs": [
        {
          "output_type": "stream",
          "name": "stdout",
          "text": [
            "Selected Features (Indices): [ 1 10 14 16 19 29 34 37 38 42]\n"
          ]
        }
      ]
    }
  ]
}