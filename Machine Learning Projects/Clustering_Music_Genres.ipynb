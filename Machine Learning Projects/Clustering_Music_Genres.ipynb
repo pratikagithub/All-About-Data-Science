{
  "nbformat": 4,
  "nbformat_minor": 0,
  "metadata": {
    "colab": {
      "provenance": [],
      "authorship_tag": "ABX9TyNHuJqBu0vFsgpXBeAg7NhD",
      "include_colab_link": true
    },
    "kernelspec": {
      "name": "python3",
      "display_name": "Python 3"
    },
    "language_info": {
      "name": "python"
    }
  },
  "cells": [
    {
      "cell_type": "markdown",
      "metadata": {
        "id": "view-in-github",
        "colab_type": "text"
      },
      "source": [
        "<a href=\"https://colab.research.google.com/github/pratikagithub/All-About-Data-Science/blob/main/Clustering_Music_Genres.ipynb\" target=\"_parent\"><img src=\"https://colab.research.google.com/assets/colab-badge.svg\" alt=\"Open In Colab\"/></a>"
      ]
    },
    {
      "cell_type": "markdown",
      "source": [
        "A machine learning technique to group data points characterized by specific features. Clustering music genres is a task of grouping music based on the similarities in their audio characteristics.\n",
        "\n",
        "**Clustering Music Genres (Problem Statement)**\n",
        "\n",
        "Every person has a different taste in music. We cannot identify what kind of music does a person likes by just knowing about their lifestyle, hobbies, or profession. So it is difficult for music streaming applications to recommend music to a person. But if we know what kind of songs a person listens to daily, we can find similarities in all the music files and recommend similar music to the person.\n",
        "\n",
        "That is where the cluster analysis of music genres comes in. Here you are given a dataset of popular songs on Spotify, which contains artists and music names with all audio characteristics of each music. Your goal is to group music genres based on similarities in their audio characteristics."
      ],
      "metadata": {
        "id": "mFeYow3MJyvZ"
      }
    },
    {
      "cell_type": "code",
      "execution_count": 1,
      "metadata": {
        "colab": {
          "base_uri": "https://localhost:8080/",
          "height": 420
        },
        "id": "nMdSwdM7JnCW",
        "outputId": "ea137151-f157-4285-c761-08c6c1031979"
      },
      "outputs": [
        {
          "output_type": "display_data",
          "data": {
            "text/plain": [
              "<IPython.core.display.HTML object>"
            ],
            "text/html": [
              "\n",
              "     <input type=\"file\" id=\"files-145d2c9c-4f23-4d50-9a3e-42d7b76f0b47\" name=\"files[]\" multiple disabled\n",
              "        style=\"border:none\" />\n",
              "     <output id=\"result-145d2c9c-4f23-4d50-9a3e-42d7b76f0b47\">\n",
              "      Upload widget is only available when the cell has been executed in the\n",
              "      current browser session. Please rerun this cell to enable.\n",
              "      </output>\n",
              "      <script>// Copyright 2017 Google LLC\n",
              "//\n",
              "// Licensed under the Apache License, Version 2.0 (the \"License\");\n",
              "// you may not use this file except in compliance with the License.\n",
              "// You may obtain a copy of the License at\n",
              "//\n",
              "//      http://www.apache.org/licenses/LICENSE-2.0\n",
              "//\n",
              "// Unless required by applicable law or agreed to in writing, software\n",
              "// distributed under the License is distributed on an \"AS IS\" BASIS,\n",
              "// WITHOUT WARRANTIES OR CONDITIONS OF ANY KIND, either express or implied.\n",
              "// See the License for the specific language governing permissions and\n",
              "// limitations under the License.\n",
              "\n",
              "/**\n",
              " * @fileoverview Helpers for google.colab Python module.\n",
              " */\n",
              "(function(scope) {\n",
              "function span(text, styleAttributes = {}) {\n",
              "  const element = document.createElement('span');\n",
              "  element.textContent = text;\n",
              "  for (const key of Object.keys(styleAttributes)) {\n",
              "    element.style[key] = styleAttributes[key];\n",
              "  }\n",
              "  return element;\n",
              "}\n",
              "\n",
              "// Max number of bytes which will be uploaded at a time.\n",
              "const MAX_PAYLOAD_SIZE = 100 * 1024;\n",
              "\n",
              "function _uploadFiles(inputId, outputId) {\n",
              "  const steps = uploadFilesStep(inputId, outputId);\n",
              "  const outputElement = document.getElementById(outputId);\n",
              "  // Cache steps on the outputElement to make it available for the next call\n",
              "  // to uploadFilesContinue from Python.\n",
              "  outputElement.steps = steps;\n",
              "\n",
              "  return _uploadFilesContinue(outputId);\n",
              "}\n",
              "\n",
              "// This is roughly an async generator (not supported in the browser yet),\n",
              "// where there are multiple asynchronous steps and the Python side is going\n",
              "// to poll for completion of each step.\n",
              "// This uses a Promise to block the python side on completion of each step,\n",
              "// then passes the result of the previous step as the input to the next step.\n",
              "function _uploadFilesContinue(outputId) {\n",
              "  const outputElement = document.getElementById(outputId);\n",
              "  const steps = outputElement.steps;\n",
              "\n",
              "  const next = steps.next(outputElement.lastPromiseValue);\n",
              "  return Promise.resolve(next.value.promise).then((value) => {\n",
              "    // Cache the last promise value to make it available to the next\n",
              "    // step of the generator.\n",
              "    outputElement.lastPromiseValue = value;\n",
              "    return next.value.response;\n",
              "  });\n",
              "}\n",
              "\n",
              "/**\n",
              " * Generator function which is called between each async step of the upload\n",
              " * process.\n",
              " * @param {string} inputId Element ID of the input file picker element.\n",
              " * @param {string} outputId Element ID of the output display.\n",
              " * @return {!Iterable<!Object>} Iterable of next steps.\n",
              " */\n",
              "function* uploadFilesStep(inputId, outputId) {\n",
              "  const inputElement = document.getElementById(inputId);\n",
              "  inputElement.disabled = false;\n",
              "\n",
              "  const outputElement = document.getElementById(outputId);\n",
              "  outputElement.innerHTML = '';\n",
              "\n",
              "  const pickedPromise = new Promise((resolve) => {\n",
              "    inputElement.addEventListener('change', (e) => {\n",
              "      resolve(e.target.files);\n",
              "    });\n",
              "  });\n",
              "\n",
              "  const cancel = document.createElement('button');\n",
              "  inputElement.parentElement.appendChild(cancel);\n",
              "  cancel.textContent = 'Cancel upload';\n",
              "  const cancelPromise = new Promise((resolve) => {\n",
              "    cancel.onclick = () => {\n",
              "      resolve(null);\n",
              "    };\n",
              "  });\n",
              "\n",
              "  // Wait for the user to pick the files.\n",
              "  const files = yield {\n",
              "    promise: Promise.race([pickedPromise, cancelPromise]),\n",
              "    response: {\n",
              "      action: 'starting',\n",
              "    }\n",
              "  };\n",
              "\n",
              "  cancel.remove();\n",
              "\n",
              "  // Disable the input element since further picks are not allowed.\n",
              "  inputElement.disabled = true;\n",
              "\n",
              "  if (!files) {\n",
              "    return {\n",
              "      response: {\n",
              "        action: 'complete',\n",
              "      }\n",
              "    };\n",
              "  }\n",
              "\n",
              "  for (const file of files) {\n",
              "    const li = document.createElement('li');\n",
              "    li.append(span(file.name, {fontWeight: 'bold'}));\n",
              "    li.append(span(\n",
              "        `(${file.type || 'n/a'}) - ${file.size} bytes, ` +\n",
              "        `last modified: ${\n",
              "            file.lastModifiedDate ? file.lastModifiedDate.toLocaleDateString() :\n",
              "                                    'n/a'} - `));\n",
              "    const percent = span('0% done');\n",
              "    li.appendChild(percent);\n",
              "\n",
              "    outputElement.appendChild(li);\n",
              "\n",
              "    const fileDataPromise = new Promise((resolve) => {\n",
              "      const reader = new FileReader();\n",
              "      reader.onload = (e) => {\n",
              "        resolve(e.target.result);\n",
              "      };\n",
              "      reader.readAsArrayBuffer(file);\n",
              "    });\n",
              "    // Wait for the data to be ready.\n",
              "    let fileData = yield {\n",
              "      promise: fileDataPromise,\n",
              "      response: {\n",
              "        action: 'continue',\n",
              "      }\n",
              "    };\n",
              "\n",
              "    // Use a chunked sending to avoid message size limits. See b/62115660.\n",
              "    let position = 0;\n",
              "    do {\n",
              "      const length = Math.min(fileData.byteLength - position, MAX_PAYLOAD_SIZE);\n",
              "      const chunk = new Uint8Array(fileData, position, length);\n",
              "      position += length;\n",
              "\n",
              "      const base64 = btoa(String.fromCharCode.apply(null, chunk));\n",
              "      yield {\n",
              "        response: {\n",
              "          action: 'append',\n",
              "          file: file.name,\n",
              "          data: base64,\n",
              "        },\n",
              "      };\n",
              "\n",
              "      let percentDone = fileData.byteLength === 0 ?\n",
              "          100 :\n",
              "          Math.round((position / fileData.byteLength) * 100);\n",
              "      percent.textContent = `${percentDone}% done`;\n",
              "\n",
              "    } while (position < fileData.byteLength);\n",
              "  }\n",
              "\n",
              "  // All done.\n",
              "  yield {\n",
              "    response: {\n",
              "      action: 'complete',\n",
              "    }\n",
              "  };\n",
              "}\n",
              "\n",
              "scope.google = scope.google || {};\n",
              "scope.google.colab = scope.google.colab || {};\n",
              "scope.google.colab._files = {\n",
              "  _uploadFiles,\n",
              "  _uploadFilesContinue,\n",
              "};\n",
              "})(self);\n",
              "</script> "
            ]
          },
          "metadata": {}
        },
        {
          "output_type": "stream",
          "name": "stdout",
          "text": [
            "Saving Spotify-2000.csv to Spotify-2000.csv\n",
            "   Index                   Title             Artist            Top Genre  \\\n",
            "0      1                 Sunrise        Norah Jones      adult standards   \n",
            "1      2             Black Night        Deep Purple           album rock   \n",
            "2      3          Clint Eastwood           Gorillaz  alternative hip hop   \n",
            "3      4           The Pretender       Foo Fighters    alternative metal   \n",
            "4      5  Waitin' On A Sunny Day  Bruce Springsteen         classic rock   \n",
            "\n",
            "   Year  Beats Per Minute (BPM)  Energy  Danceability  Loudness (dB)  \\\n",
            "0  2004                     157      30            53            -14   \n",
            "1  2000                     135      79            50            -11   \n",
            "2  2001                     168      69            66             -9   \n",
            "3  2007                     173      96            43             -4   \n",
            "4  2002                     106      82            58             -5   \n",
            "\n",
            "   Liveness  Valence Length (Duration)  Acousticness  Speechiness  Popularity  \n",
            "0        11       68               201            94            3          71  \n",
            "1        17       81               207            17            7          39  \n",
            "2         7       52               341             2           17          69  \n",
            "3         3       37               269             0            4          76  \n",
            "4        10       87               256             1            3          59  \n"
          ]
        }
      ],
      "source": [
        "import pandas as pd\n",
        "import numpy as np\n",
        "from sklearn import cluster\n",
        "from google.colab import files\n",
        "uploaded = files.upload()\n",
        "data = pd.read_csv(\"Spotify-2000.csv\")\n",
        "print(data.head())"
      ]
    },
    {
      "cell_type": "markdown",
      "source": [
        "You can see all the columns of the dataset in the above output. It contains all the audio features of music that are enough to find similarities. Before moving forward, I will drop the index column, as it is of no use:"
      ],
      "metadata": {
        "id": "spnBeGx2KVr7"
      }
    },
    {
      "cell_type": "code",
      "source": [
        "data = data.drop(\"Index\", axis=1)"
      ],
      "metadata": {
        "id": "H_LvL7nsKYMw"
      },
      "execution_count": 2,
      "outputs": []
    },
    {
      "cell_type": "markdown",
      "source": [
        "Now let’s have a look at the correlation between all the audio features in the dataset:"
      ],
      "metadata": {
        "id": "U9Oicq3-KaqN"
      }
    },
    {
      "cell_type": "code",
      "source": [
        "print(data.dtypes)"
      ],
      "metadata": {
        "colab": {
          "base_uri": "https://localhost:8080/"
        },
        "id": "QNk7vrNgKulN",
        "outputId": "55acec7a-140a-4215-bebc-2520344cc937"
      },
      "execution_count": 4,
      "outputs": [
        {
          "output_type": "stream",
          "name": "stdout",
          "text": [
            "Title                     object\n",
            "Artist                    object\n",
            "Top Genre                 object\n",
            "Year                       int64\n",
            "Beats Per Minute (BPM)     int64\n",
            "Energy                     int64\n",
            "Danceability               int64\n",
            "Loudness (dB)              int64\n",
            "Liveness                   int64\n",
            "Valence                    int64\n",
            "Length (Duration)         object\n",
            "Acousticness               int64\n",
            "Speechiness                int64\n",
            "Popularity                 int64\n",
            "dtype: object\n"
          ]
        }
      ]
    },
    {
      "cell_type": "code",
      "source": [
        "numeric_data = data.select_dtypes(include=['number'])\n",
        "print(numeric_data.corr())"
      ],
      "metadata": {
        "colab": {
          "base_uri": "https://localhost:8080/"
        },
        "id": "DOkHnX_EKxge",
        "outputId": "8a105b50-5be0-48c0-b93b-069af3055411"
      },
      "execution_count": 5,
      "outputs": [
        {
          "output_type": "stream",
          "name": "stdout",
          "text": [
            "                            Year  Beats Per Minute (BPM)    Energy  \\\n",
            "Year                    1.000000                0.012570  0.147235   \n",
            "Beats Per Minute (BPM)  0.012570                1.000000  0.156644   \n",
            "Energy                  0.147235                0.156644  1.000000   \n",
            "Danceability            0.077493               -0.140602  0.139616   \n",
            "Loudness (dB)           0.343764                0.092927  0.735711   \n",
            "Liveness                0.019017                0.016256  0.174118   \n",
            "Valence                -0.166163                0.059653  0.405175   \n",
            "Acousticness           -0.132946               -0.122472 -0.665156   \n",
            "Speechiness             0.054097                0.085598  0.205865   \n",
            "Popularity             -0.158962               -0.003181  0.103393   \n",
            "\n",
            "                        Danceability  Loudness (dB)  Liveness   Valence  \\\n",
            "Year                        0.077493       0.343764  0.019017 -0.166163   \n",
            "Beats Per Minute (BPM)     -0.140602       0.092927  0.016256  0.059653   \n",
            "Energy                      0.139616       0.735711  0.174118  0.405175   \n",
            "Danceability                1.000000       0.044235 -0.103063  0.514564   \n",
            "Loudness (dB)               0.044235       1.000000  0.098257  0.147041   \n",
            "Liveness                   -0.103063       0.098257  1.000000  0.050667   \n",
            "Valence                     0.514564       0.147041  0.050667  1.000000   \n",
            "Acousticness               -0.135769      -0.451635 -0.046206 -0.239729   \n",
            "Speechiness                 0.125229       0.125090  0.092594  0.107102   \n",
            "Popularity                  0.144344       0.165527 -0.111978  0.095911   \n",
            "\n",
            "                        Acousticness  Speechiness  Popularity  \n",
            "Year                       -0.132946     0.054097   -0.158962  \n",
            "Beats Per Minute (BPM)     -0.122472     0.085598   -0.003181  \n",
            "Energy                     -0.665156     0.205865    0.103393  \n",
            "Danceability               -0.135769     0.125229    0.144344  \n",
            "Loudness (dB)              -0.451635     0.125090    0.165527  \n",
            "Liveness                   -0.046206     0.092594   -0.111978  \n",
            "Valence                    -0.239729     0.107102    0.095911  \n",
            "Acousticness                1.000000    -0.098256   -0.087604  \n",
            "Speechiness                -0.098256     1.000000    0.111689  \n",
            "Popularity                 -0.087604     0.111689    1.000000  \n"
          ]
        }
      ]
    },
    {
      "cell_type": "code",
      "source": [
        "non_numeric_cols = data.select_dtypes(exclude=['number']).columns\n",
        "print(\"Non-numeric columns:\", non_numeric_cols)"
      ],
      "metadata": {
        "colab": {
          "base_uri": "https://localhost:8080/"
        },
        "id": "PTBm5eazLmz8",
        "outputId": "ab222263-3e36-43c9-d4e6-58b04d837031"
      },
      "execution_count": 9,
      "outputs": [
        {
          "output_type": "stream",
          "name": "stdout",
          "text": [
            "Non-numeric columns: Index(['Title', 'Artist', 'Top Genre', 'Length (Duration)'], dtype='object')\n"
          ]
        }
      ]
    },
    {
      "cell_type": "code",
      "source": [
        "data['Year'] = pd.to_numeric(data['Year'], errors='coerce')  # Convert Year column"
      ],
      "metadata": {
        "id": "fAECqxWzLvc7"
      },
      "execution_count": 11,
      "outputs": []
    },
    {
      "cell_type": "code",
      "source": [
        "data = data.dropna()  # Drop rows with NaN values\n",
        "# or\n",
        "data.fillna(0, inplace=True)  # Fill NaN values with 0"
      ],
      "metadata": {
        "id": "siiCB-ttLyIj"
      },
      "execution_count": 12,
      "outputs": []
    },
    {
      "cell_type": "code",
      "source": [
        "print(numeric_data.corr())"
      ],
      "metadata": {
        "colab": {
          "base_uri": "https://localhost:8080/"
        },
        "id": "RivpPhvQL1At",
        "outputId": "cffec05e-2b74-496d-8384-7e0abae8d974"
      },
      "execution_count": 13,
      "outputs": [
        {
          "output_type": "stream",
          "name": "stdout",
          "text": [
            "                            Year  Beats Per Minute (BPM)    Energy  \\\n",
            "Year                    1.000000                0.012570  0.147235   \n",
            "Beats Per Minute (BPM)  0.012570                1.000000  0.156644   \n",
            "Energy                  0.147235                0.156644  1.000000   \n",
            "Danceability            0.077493               -0.140602  0.139616   \n",
            "Loudness (dB)           0.343764                0.092927  0.735711   \n",
            "Liveness                0.019017                0.016256  0.174118   \n",
            "Valence                -0.166163                0.059653  0.405175   \n",
            "Acousticness           -0.132946               -0.122472 -0.665156   \n",
            "Speechiness             0.054097                0.085598  0.205865   \n",
            "Popularity             -0.158962               -0.003181  0.103393   \n",
            "\n",
            "                        Danceability  Loudness (dB)  Liveness   Valence  \\\n",
            "Year                        0.077493       0.343764  0.019017 -0.166163   \n",
            "Beats Per Minute (BPM)     -0.140602       0.092927  0.016256  0.059653   \n",
            "Energy                      0.139616       0.735711  0.174118  0.405175   \n",
            "Danceability                1.000000       0.044235 -0.103063  0.514564   \n",
            "Loudness (dB)               0.044235       1.000000  0.098257  0.147041   \n",
            "Liveness                   -0.103063       0.098257  1.000000  0.050667   \n",
            "Valence                     0.514564       0.147041  0.050667  1.000000   \n",
            "Acousticness               -0.135769      -0.451635 -0.046206 -0.239729   \n",
            "Speechiness                 0.125229       0.125090  0.092594  0.107102   \n",
            "Popularity                  0.144344       0.165527 -0.111978  0.095911   \n",
            "\n",
            "                        Acousticness  Speechiness  Popularity  \n",
            "Year                       -0.132946     0.054097   -0.158962  \n",
            "Beats Per Minute (BPM)     -0.122472     0.085598   -0.003181  \n",
            "Energy                     -0.665156     0.205865    0.103393  \n",
            "Danceability               -0.135769     0.125229    0.144344  \n",
            "Loudness (dB)              -0.451635     0.125090    0.165527  \n",
            "Liveness                   -0.046206     0.092594   -0.111978  \n",
            "Valence                    -0.239729     0.107102    0.095911  \n",
            "Acousticness                1.000000    -0.098256   -0.087604  \n",
            "Speechiness                -0.098256     1.000000    0.111689  \n",
            "Popularity                 -0.087604     0.111689    1.000000  \n"
          ]
        }
      ]
    },
    {
      "cell_type": "code",
      "source": [
        "# Identify and exclude non-numeric columns\n",
        "numeric_data = data.select_dtypes(include=['number'])\n",
        "\n",
        "# Check correlation\n",
        "correlation_matrix = numeric_data.corr()\n",
        "print(correlation_matrix)"
      ],
      "metadata": {
        "colab": {
          "base_uri": "https://localhost:8080/"
        },
        "id": "c8gG5KofL4wX",
        "outputId": "821ecfb2-a88d-4c2b-cd8b-669bda889a75"
      },
      "execution_count": 14,
      "outputs": [
        {
          "output_type": "stream",
          "name": "stdout",
          "text": [
            "                            Year  Beats Per Minute (BPM)    Energy  \\\n",
            "Year                    1.000000                0.012570  0.147235   \n",
            "Beats Per Minute (BPM)  0.012570                1.000000  0.156644   \n",
            "Energy                  0.147235                0.156644  1.000000   \n",
            "Danceability            0.077493               -0.140602  0.139616   \n",
            "Loudness (dB)           0.343764                0.092927  0.735711   \n",
            "Liveness                0.019017                0.016256  0.174118   \n",
            "Valence                -0.166163                0.059653  0.405175   \n",
            "Acousticness           -0.132946               -0.122472 -0.665156   \n",
            "Speechiness             0.054097                0.085598  0.205865   \n",
            "Popularity             -0.158962               -0.003181  0.103393   \n",
            "\n",
            "                        Danceability  Loudness (dB)  Liveness   Valence  \\\n",
            "Year                        0.077493       0.343764  0.019017 -0.166163   \n",
            "Beats Per Minute (BPM)     -0.140602       0.092927  0.016256  0.059653   \n",
            "Energy                      0.139616       0.735711  0.174118  0.405175   \n",
            "Danceability                1.000000       0.044235 -0.103063  0.514564   \n",
            "Loudness (dB)               0.044235       1.000000  0.098257  0.147041   \n",
            "Liveness                   -0.103063       0.098257  1.000000  0.050667   \n",
            "Valence                     0.514564       0.147041  0.050667  1.000000   \n",
            "Acousticness               -0.135769      -0.451635 -0.046206 -0.239729   \n",
            "Speechiness                 0.125229       0.125090  0.092594  0.107102   \n",
            "Popularity                  0.144344       0.165527 -0.111978  0.095911   \n",
            "\n",
            "                        Acousticness  Speechiness  Popularity  \n",
            "Year                       -0.132946     0.054097   -0.158962  \n",
            "Beats Per Minute (BPM)     -0.122472     0.085598   -0.003181  \n",
            "Energy                     -0.665156     0.205865    0.103393  \n",
            "Danceability               -0.135769     0.125229    0.144344  \n",
            "Loudness (dB)              -0.451635     0.125090    0.165527  \n",
            "Liveness                   -0.046206     0.092594   -0.111978  \n",
            "Valence                    -0.239729     0.107102    0.095911  \n",
            "Acousticness                1.000000    -0.098256   -0.087604  \n",
            "Speechiness                -0.098256     1.000000    0.111689  \n",
            "Popularity                 -0.087604     0.111689    1.000000  \n"
          ]
        }
      ]
    },
    {
      "cell_type": "markdown",
      "source": [
        "**Clustering Analysis of Audio Features**\n",
        "\n",
        "Now I will use the K-means clustering algorithm to find the similarities between all the audio features. Then I will add clusters in the dataset based on the similarities we found. So let’s create a new dataset of all the audio characteristics and perform clustering analysis using the K-means clustering algorithm:"
      ],
      "metadata": {
        "id": "WooXT4XSL_TW"
      }
    },
    {
      "cell_type": "code",
      "source": [
        "data2 = data[[\"Beats Per Minute (BPM)\", \"Loudness (dB)\",\n",
        "              \"Liveness\", \"Valence\", \"Acousticness\",\n",
        "              \"Speechiness\"]]\n",
        "\n",
        "from sklearn.preprocessing import MinMaxScaler\n",
        "for i in data.columns:\n",
        "    MinMaxScaler(i)\n",
        "\n",
        "from sklearn.cluster import KMeans\n",
        "kmeans = KMeans(n_clusters=10)\n",
        "clusters = kmeans.fit_predict(data2)"
      ],
      "metadata": {
        "id": "3vi6NncZL-4W"
      },
      "execution_count": 15,
      "outputs": []
    },
    {
      "cell_type": "markdown",
      "source": [
        "Now I will add the clusters as predicted by the K-means clustering algorithm to the original dataset:"
      ],
      "metadata": {
        "id": "WNXyZ7YJMFzt"
      }
    },
    {
      "cell_type": "code",
      "source": [
        "data[\"Music Segments\"] = clusters\n",
        "MinMaxScaler(data[\"Music Segments\"])\n",
        "data[\"Music Segments\"] = data[\"Music Segments\"].map({1: \"Cluster 1\", 2:\n",
        "    \"Cluster 2\", 3: \"Cluster 3\", 4: \"Cluster 4\", 5: \"Cluster 5\",\n",
        "    6: \"Cluster 6\", 7: \"Cluster 7\", 8: \"Cluster 8\",\n",
        "    9: \"Cluster 9\", 10: \"Cluster 10\"})"
      ],
      "metadata": {
        "id": "nd1UCqwHMHcP"
      },
      "execution_count": 16,
      "outputs": []
    },
    {
      "cell_type": "markdown",
      "source": [
        "Now let’s have a look at the dataset with clusters:"
      ],
      "metadata": {
        "id": "1fRlUMZ4MJpQ"
      }
    },
    {
      "cell_type": "code",
      "source": [
        "print(data.head())"
      ],
      "metadata": {
        "colab": {
          "base_uri": "https://localhost:8080/"
        },
        "id": "H-wrfid0MLSV",
        "outputId": "71ba7443-89fc-4771-c991-66235a40791e"
      },
      "execution_count": 17,
      "outputs": [
        {
          "output_type": "stream",
          "name": "stdout",
          "text": [
            "                    Title             Artist            Top Genre  Year  \\\n",
            "0                 Sunrise        Norah Jones      adult standards  2004   \n",
            "1             Black Night        Deep Purple           album rock  2000   \n",
            "2          Clint Eastwood           Gorillaz  alternative hip hop  2001   \n",
            "3           The Pretender       Foo Fighters    alternative metal  2007   \n",
            "4  Waitin' On A Sunny Day  Bruce Springsteen         classic rock  2002   \n",
            "\n",
            "   Beats Per Minute (BPM)  Energy  Danceability  Loudness (dB)  Liveness  \\\n",
            "0                     157      30            53            -14        11   \n",
            "1                     135      79            50            -11        17   \n",
            "2                     168      69            66             -9         7   \n",
            "3                     173      96            43             -4         3   \n",
            "4                     106      82            58             -5        10   \n",
            "\n",
            "   Valence Length (Duration)  Acousticness  Speechiness  Popularity  \\\n",
            "0       68               201            94            3          71   \n",
            "1       81               207            17            7          39   \n",
            "2       52               341             2           17          69   \n",
            "3       37               269             0            4          76   \n",
            "4       87               256             1            3          59   \n",
            "\n",
            "  Music Segments  \n",
            "0      Cluster 3  \n",
            "1      Cluster 2  \n",
            "2            NaN  \n",
            "3            NaN  \n",
            "4      Cluster 2  \n"
          ]
        }
      ]
    },
    {
      "cell_type": "markdown",
      "source": [
        "Now let’s visualize the clusters based on some of the audio features:"
      ],
      "metadata": {
        "id": "_AdLk-RdMN60"
      }
    },
    {
      "cell_type": "code",
      "source": [
        "import plotly.graph_objects as go\n",
        "PLOT = go.Figure()\n",
        "for i in list(data[\"Music Segments\"].unique()):\n",
        "\n",
        "\n",
        "    PLOT.add_trace(go.Scatter3d(x = data[data[\"Music Segments\"]== i]['Beats Per Minute (BPM)'],\n",
        "                                y = data[data[\"Music Segments\"] == i]['Energy'],\n",
        "                                z = data[data[\"Music Segments\"] == i]['Danceability'],\n",
        "                                mode = 'markers',marker_size = 6, marker_line_width = 1,\n",
        "                                name = str(i)))\n",
        "PLOT.update_traces(hovertemplate='Beats Per Minute (BPM): %{x} <br>Energy: %{y} <br>Danceability: %{z}')\n",
        "\n",
        "\n",
        "PLOT.update_layout(width = 800, height = 800, autosize = True, showlegend = True,\n",
        "                   scene = dict(xaxis=dict(title = 'Beats Per Minute (BPM)', titlefont_color = 'black'),\n",
        "                                yaxis=dict(title = 'Energy', titlefont_color = 'black'),\n",
        "                                zaxis=dict(title = 'Danceability', titlefont_color = 'black')),\n",
        "                   font = dict(family = \"Gilroy\", color  = 'black', size = 12))"
      ],
      "metadata": {
        "colab": {
          "base_uri": "https://localhost:8080/",
          "height": 817
        },
        "id": "Q_QDb0MnMROy",
        "outputId": "67219353-5fb7-42a9-b6f1-1c6e4e559709"
      },
      "execution_count": 18,
      "outputs": [
        {
          "output_type": "display_data",
          "data": {
            "text/html": [
              "<html>\n",
              "<head><meta charset=\"utf-8\" /></head>\n",
              "<body>\n",
              "    <div>            <script src=\"https://cdnjs.cloudflare.com/ajax/libs/mathjax/2.7.5/MathJax.js?config=TeX-AMS-MML_SVG\"></script><script type=\"text/javascript\">if (window.MathJax && window.MathJax.Hub && window.MathJax.Hub.Config) {window.MathJax.Hub.Config({SVG: {font: \"STIX-Web\"}});}</script>                <script type=\"text/javascript\">window.PlotlyConfig = {MathJaxConfig: 'local'};</script>\n",
              "        <script charset=\"utf-8\" src=\"https://cdn.plot.ly/plotly-2.35.2.min.js\"></script>                <div id=\"c3718179-ee05-4d43-9717-a3928f10fbc2\" class=\"plotly-graph-div\" style=\"height:800px; width:800px;\"></div>            <script type=\"text/javascript\">                                    window.PLOTLYENV=window.PLOTLYENV || {};                                    if (document.getElementById(\"c3718179-ee05-4d43-9717-a3928f10fbc2\")) {                    Plotly.newPlot(                        \"c3718179-ee05-4d43-9717-a3928f10fbc2\",                        [{\"marker\":{\"line\":{\"width\":1},\"size\":6},\"mode\":\"markers\",\"name\":\"Cluster 3\",\"x\":[157,176,178,160,171,173,159,166,162,144,174,179,184,170,186,151,199,160,166,184,155,174,175,174,161,170,163,190,150,155,159,169,184,156,167,161,181,146,148,169,159,180,178,177,200,184,151,178,194,190,204,159,170,171,177,161,172,175,156,174,176,153,148,174,164,166,177,167,179,174,154,175,172,174,167,176,170,156,154,168,175,168,174],\"y\":[30,74,68,61,20,30,64,57,33,34,6,47,44,68,40,46,36,64,29,51,54,28,52,13,38,46,51,53,66,28,17,26,34,50,47,43,39,31,41,38,16,43,34,32,42,9,32,29,93,24,41,57,35,34,55,26,14,45,41,90,47,40,48,33,43,50,21,61,54,38,24,10,40,38,52,91,34,30,36,7,76,80,26],\"z\":[53,66,30,36,34,32,52,32,56,64,35,33,27,44,32,69,28,59,38,35,27,36,48,50,35,18,49,26,25,50,48,47,38,53,30,31,36,30,66,23,41,22,39,29,29,39,38,30,49,45,62,35,56,28,52,54,39,42,45,41,35,54,39,38,26,40,49,24,45,44,50,38,39,21,18,21,25,40,45,17,36,53,45],\"type\":\"scatter3d\",\"hovertemplate\":\"Beats Per Minute (BPM): %{x} \\u003cbr\\u003eEnergy: %{y} \\u003cbr\\u003eDanceability: %{z}\"},{\"marker\":{\"line\":{\"width\":1},\"size\":6},\"mode\":\"markers\",\"name\":\"Cluster 2\",\"x\":[135,106,112,96,148,118,131,103,105,132,106,136,103,120,103,91,93,89,138,129,98,138,105,120,133,125,127,117,91,114,130,94,95,139,133,109,80,115,125,103,141,87,131,100,124,130,96,106,119,117,77,97,147,110,120,123,133,128,140,127,132,146,100,141,105,116,148,117,120,126,97,94,118,115,117,111,121,130,131,129,92,100,112,126,128,111,116,124,124,103,107,108,116,119,121,105,130,104,109,129,120,147,114,106,131,125,124,144,117,98,128,118,110,138,129,133,141,136,107,127,108,119,106,81,107,109,135,123,119,127,107,106,76,119,127,148,96,123,93,122,121,115,131,104,128,151,155,136,132,127,119,134,116,118,119,82,115,120,114,110,127,133,127,120,145,110,151,131,119,143,131,108,122,118,93,117,98,94,113,127,122,125,134,125,105,127,143,120,92,124,105,139,126,129,118,117,126,135,82,84,87,131,121,114,123,128,115,92,136,123,111,111,132,106,88,131,115,113,119,134,125,113,126,153,125,132,103,115,142,104,102,102,145,115,140,113,112,131,109,104,126,92,117,94,125,104,98,91,99,107,124,76,142,97,119,129,98,85,119,98,139,90,127,107,130,127,110,104,126,104,103,142,121,93,143,104,116,86,160,111,139,99,136,95,127,151,115,90,95,121],\"y\":[79,82,81,89,76,82,72,86,73,55,84,80,86,60,81,63,77,47,93,72,69,56,66,92,81,92,66,75,94,60,71,70,88,77,72,58,97,89,74,95,92,65,96,63,56,70,91,73,81,73,89,79,90,41,59,84,80,71,86,90,63,92,93,71,88,81,84,78,60,81,74,54,72,61,74,90,73,70,46,64,85,88,75,83,78,74,74,69,89,76,77,58,47,84,63,66,85,72,65,93,78,59,59,60,58,54,54,75,91,61,64,44,61,75,49,67,82,83,74,79,70,83,72,71,57,88,94,52,72,71,69,80,52,64,60,87,70,78,72,56,38,85,87,39,85,81,94,86,76,78,82,80,87,53,60,52,73,66,54,53,77,72,38,74,89,89,43,53,88,76,42,39,93,74,37,65,94,60,83,82,92,71,63,80,40,63,76,80,73,46,79,83,99,92,82,96,80,58,57,90,66,82,67,46,89,76,91,80,77,96,27,86,93,58,63,88,49,94,82,45,70,84,73,74,69,63,69,56,85,74,25,59,97,88,81,81,68,86,51,79,86,94,77,61,91,82,64,61,67,71,65,56,82,70,53,67,41,94,58,91,80,91,79,79,82,35,86,88,88,86,61,63,80,74,90,87,92,68,80,53,81,69,86,73,49,58,56,75,41,39],\"z\":[50,58,65,63,91,67,64,63,68,85,70,67,70,85,71,67,52,86,55,61,67,74,95,67,86,52,66,61,62,88,66,83,62,53,87,74,73,74,69,54,58,61,62,63,80,79,56,79,85,49,69,71,53,67,79,47,74,73,79,73,69,64,64,75,66,79,52,52,85,64,66,79,78,86,64,64,67,68,60,67,68,62,91,69,81,66,67,83,77,53,60,74,74,63,61,75,59,55,65,63,56,56,63,65,67,68,47,66,57,60,51,48,66,75,72,67,57,51,55,48,68,48,82,45,59,62,59,72,67,67,69,67,73,91,62,73,49,61,53,78,76,73,70,69,77,58,48,72,80,71,88,65,64,67,83,48,71,79,81,93,53,68,56,71,64,64,63,87,72,56,88,80,63,73,67,92,62,81,74,89,85,69,65,74,61,43,60,71,67,93,58,51,73,74,78,57,63,69,62,57,63,60,76,69,53,78,63,53,52,54,90,56,64,76,53,66,73,73,71,60,63,71,70,45,63,55,52,78,53,66,96,77,71,66,61,64,60,74,74,59,67,67,65,64,45,72,48,74,69,85,76,59,58,62,47,62,85,44,73,53,76,86,77,75,55,53,77,80,58,53,71,76,96,67,72,73,61,87,49,69,59,60,72,53,73,49,81,42,54,72],\"type\":\"scatter3d\",\"hovertemplate\":\"Beats Per Minute (BPM): %{x} \\u003cbr\\u003eEnergy: %{y} \\u003cbr\\u003eDanceability: %{z}\"},{\"marker\":{\"line\":{\"width\":1},\"size\":6},\"mode\":\"markers\",\"name\":\"nan\",\"x\":[],\"y\":[],\"z\":[],\"type\":\"scatter3d\",\"hovertemplate\":\"Beats Per Minute (BPM): %{x} \\u003cbr\\u003eEnergy: %{y} \\u003cbr\\u003eDanceability: %{z}\"},{\"marker\":{\"line\":{\"width\":1},\"size\":6},\"mode\":\"markers\",\"name\":\"Cluster 9\",\"x\":[99,87,80,75,76,96,99,81,88,79,105,101,94,68,75,109,96,94,75,101,97,92,100,80,92,91,109,92,105,80,90,94,98,79,110,100,98,90,111,74,76,87,72,98,88,104,85,81,93,105,95,108,89,104,95,97,79,79,88,90,95,107,100,85,80,92,103,71,85,75,86,108,77,85,81,99,93,102,94,83,90,49,106,87,98,92,98,95,90,74,95,75,80,103,103,92,96,69,96,91,105,100,98,82,68,109,87,100,105,86,94,98,94,76,91,96,81,102,81,85,92,82,104,80,90,102,102,89,91,112,109,104,98,104,64,94,102,89,91,91,80,98,88,96,83,77,77,101,81,87,82,94,82,78,95,99,81,81,110,86,98,99,98,73,90,82,77,75,96,82,89,100,97,90,103,104,110,98,86,74,92,94,90,84,91,77,85,80,73,75,85,83,109,89,105,89,81,104,91,92,104,86,95,93,94,90,105,75,90,94,84,93,99,94,100,94,80,76,110,74,84,54,90,88,68,61,81,75,96,76,87,77,98,102,94,77,102,96,81,96,90,89,95,98,95,99,100,97,103,98,71,80,65,76,82,108,111,80,102,90,95,80,103,101,91,87,89],\"y\":[46,31,47,64,77,60,70,65,32,60,86,69,84,72,67,42,64,77,92,78,55,57,63,72,57,59,78,95,81,77,25,70,35,64,76,78,73,52,84,63,58,78,87,68,87,59,58,39,93,59,94,72,73,61,47,73,73,33,40,71,55,69,76,87,81,71,76,63,53,55,41,88,51,43,76,68,48,73,34,41,74,37,67,65,72,74,55,84,40,51,45,71,66,64,63,87,62,62,39,70,66,61,73,90,58,52,93,71,52,61,68,56,45,66,38,31,60,72,64,60,38,50,46,33,90,58,37,59,42,69,68,56,58,41,46,32,63,75,73,82,48,93,69,90,67,57,70,75,62,57,45,38,77,51,56,68,47,61,31,42,41,50,94,45,100,42,29,53,68,28,65,98,69,82,69,29,53,41,58,42,84,56,86,45,37,68,40,64,73,88,35,69,85,76,94,85,55,60,47,43,34,83,43,26,48,43,83,41,82,45,79,57,65,29,80,77,51,71,43,23,54,56,86,38,51,36,54,51,66,39,49,52,91,59,46,42,39,80,90,77,40,72,64,62,91,21,65,15,13,50,53,50,33,44,24,69,32,29,44,90,72,45,59,42,46,55,55],\"z\":[54,27,62,37,46,53,69,50,52,56,56,62,52,60,30,35,59,37,51,44,62,62,61,51,26,56,70,66,55,78,52,63,54,47,50,60,60,63,62,46,35,36,43,62,25,56,50,14,44,43,33,58,63,28,37,50,50,40,37,51,78,30,51,42,37,56,45,51,55,48,21,54,57,67,50,62,74,48,38,27,49,39,57,66,68,70,37,60,73,36,60,60,55,62,48,51,41,59,57,54,40,70,67,58,23,57,50,55,77,51,54,70,49,22,25,69,22,50,55,27,59,33,31,49,47,52,82,39,44,50,38,43,52,79,27,48,68,61,49,53,59,42,43,47,43,54,41,36,63,60,51,56,56,38,57,37,48,58,40,30,75,29,51,53,28,44,55,44,64,52,62,27,67,29,44,71,52,58,54,69,41,72,57,62,75,36,52,29,21,28,56,31,28,36,39,63,55,66,53,52,65,41,44,33,31,39,35,52,40,36,10,58,59,74,79,53,65,52,60,45,77,36,53,42,33,34,56,36,64,26,59,44,51,59,56,62,48,22,39,59,62,60,30,60,92,34,53,52,59,39,52,50,31,31,55,51,65,26,48,41,27,39,47,48,55,27,38],\"type\":\"scatter3d\",\"hovertemplate\":\"Beats Per Minute (BPM): %{x} \\u003cbr\\u003eEnergy: %{y} \\u003cbr\\u003eDanceability: %{z}\"},{\"marker\":{\"line\":{\"width\":1},\"size\":6},\"mode\":\"markers\",\"name\":\"Cluster 8\",\"x\":[102,112,138,112,123,105,100,132,99,110,105,120,115,92,123,99,126,115,114,115,138,115,98,111,111,118,110,105,118,143,112,130,134,136,135,110,138,106,140,136,100,120,143,144,132,119,110,116,123,110,104,122,109,120,108,103,120,130,104,131,123,130,124,125,127,110,110,108,134,105,139,122,116,128,124,117,125,112,89,136,142,113,130,123,100,107,125,135,135,145,116,128,116,109,140,132,124,140,111,135,124,113,124,137,121,119,106,109,117,125,130,126,119,125,106,125,142,112,104,104,105,137,133,134,114,123,122,118,116,120,105,131,125,117,137,136,140,121,119,115,141,119,125,115,120,122,117,126,112,122,135,127,115,115,134,103,117,109,110,110,143,105,130,114,113,125,101,99,118,118,114,128,114,119,102,141,101,116,129,122,125,115,90,132,130,116,120,108,144,117,123,120,123,127,117,100,89,106,101,136,120,131,115,123,102,118,116,132,122,130,122,123,125,95,144,133,96,103,118,117,108,110,136,123,97,130,109,117,137,125,109,112,100,115,113,110,130,99,126,142,117,133,124,117,129],\"y\":[71,67,99,74,68,68,85,41,87,96,91,76,67,90,72,77,95,97,83,72,55,70,50,87,57,84,87,90,73,74,78,49,88,98,80,78,84,68,82,93,80,91,83,77,84,92,80,59,70,77,57,71,84,39,68,69,93,83,63,76,73,73,78,78,72,85,64,87,92,76,88,71,78,87,85,79,88,92,82,90,92,83,70,75,53,80,78,83,66,91,87,78,83,41,49,71,86,71,75,43,76,93,80,47,70,50,68,78,85,60,80,69,76,70,96,76,70,76,97,54,50,69,49,75,35,80,72,62,91,49,36,67,93,54,69,92,51,73,76,60,66,73,55,74,79,65,35,76,50,95,75,81,78,68,66,91,47,60,71,47,83,83,78,77,95,95,77,51,98,67,85,84,89,63,65,98,84,67,74,31,76,77,41,88,68,39,79,57,59,91,82,82,66,79,61,66,83,67,83,76,79,59,52,92,51,97,62,86,83,47,72,73,92,43,90,97,50,90,57,58,84,89,92,80,74,62,43,49,90,47,91,67,73,65,81,58,62,56,49,97,38,66,72,39,41],\"z\":[71,91,51,65,53,28,58,62,55,43,46,70,72,50,82,65,51,60,42,53,59,73,52,60,70,59,51,43,45,71,58,95,63,54,56,65,47,38,42,54,71,55,44,51,61,70,58,68,61,56,77,70,64,62,61,55,51,51,67,48,54,53,53,55,68,78,70,74,59,73,64,66,65,58,62,40,60,64,53,65,56,67,66,59,56,82,78,46,67,55,55,67,52,81,57,42,79,62,67,70,40,56,60,47,54,46,66,44,28,48,41,64,52,42,68,84,46,49,39,71,70,55,52,62,50,44,36,65,57,75,63,58,62,59,49,37,80,40,66,62,58,87,44,65,54,60,72,65,74,40,73,56,62,43,67,57,73,82,66,66,54,54,67,56,65,45,56,60,85,75,88,49,79,71,56,31,60,65,48,72,64,68,63,49,64,65,70,66,62,50,58,50,68,43,53,67,47,56,31,53,66,43,65,51,49,57,80,61,59,80,40,72,64,48,43,51,92,35,68,73,72,60,47,46,57,77,72,52,60,60,53,50,39,45,44,55,44,45,51,48,49,64,54,68,46],\"type\":\"scatter3d\",\"hovertemplate\":\"Beats Per Minute (BPM): %{x} \\u003cbr\\u003eEnergy: %{y} \\u003cbr\\u003eDanceability: %{z}\"},{\"marker\":{\"line\":{\"width\":1},\"size\":6},\"mode\":\"markers\",\"name\":\"Cluster 4\",\"x\":[137,148,124,123,127,138,142,152,138,122,123,136,139,131,145,128,130,112,122,171,137,129,130,120,139,127,129,128,133,136,120,122,147,138,116,135,142,124,144,113,123,133,145,139,149,127,116,131,138,123,122,150,135,114,171,153,153,131,140,118,128,115,111,134,127,131,123,115,110,117,126,140,138,138,126,168,118,140,135,138,142,154,132,130,145,116,128,128,121,142,140,125,140,134,152,130,114,156,128,128,121,128,130,123,121,158,116,144,150,142,120,145,114,120,132,146,115,125,114,140,152,140,128,120,114,120,120,132,142,139,127,119,131,134,117,145,131,133,133,135,127,124,140,127,123,144,134,129,130,128,141,135,135,112,134,127,112,146,140,125,137,113,123,140,130,117,118,123,120,150,134,110,126,124,127,125,119,139,144,147,126,132,134,152,120,140,138,142,132,139,125,131,153,120,110,165,125,134,138,144,143,145,144,140,130,112,116,113,141,150,120,145,128,138,160,149,132,127,155,137,137,164,142,133,136,113,119,130,128,121,109,128,117,150,130,125,150,112,127,117,106,133,145,129,140,145,165,134,118],\"y\":[96,92,46,90,54,42,51,81,64,77,59,43,48,80,91,40,70,81,74,74,72,82,94,56,77,56,39,91,20,97,69,87,93,85,62,75,48,46,55,95,73,88,59,77,88,93,88,90,62,93,97,81,77,30,48,91,84,91,55,77,80,64,66,53,59,42,81,61,56,62,83,59,78,87,79,82,73,51,66,74,75,58,68,83,56,81,79,87,66,96,63,64,95,71,86,70,34,87,58,93,48,46,93,92,62,45,50,59,43,66,47,91,59,60,69,28,71,40,32,68,60,57,49,85,79,83,90,87,66,53,46,36,79,32,72,43,70,33,76,92,62,71,40,54,42,40,58,37,46,49,93,89,31,71,98,37,30,34,98,59,74,93,16,59,62,67,84,13,92,80,86,43,72,99,86,28,91,52,48,18,67,29,89,52,57,63,57,36,74,60,59,37,78,57,87,60,77,56,55,94,43,44,55,65,42,75,85,63,66,63,43,99,87,45,61,67,39,58,47,24,76,85,95,88,99,37,50,82,51,66,50,80,27,59,66,96,40,65,92,58,30,47,46,54,44,43,38,34,62],\"z\":[37,36,74,52,38,21,60,32,71,30,48,28,52,75,38,40,52,53,64,69,28,53,37,41,55,61,59,60,34,41,79,55,51,60,49,51,57,53,54,22,49,46,43,44,18,42,74,61,49,45,45,49,47,70,26,54,32,47,56,53,45,60,87,59,40,31,50,37,71,48,60,45,48,23,60,51,43,44,53,43,50,27,52,55,60,73,57,68,60,46,39,55,58,33,46,76,44,37,57,52,66,72,48,45,88,48,58,38,49,46,77,57,49,52,34,49,63,50,50,51,32,34,41,60,60,43,52,47,36,59,34,39,31,28,49,41,32,27,41,69,39,46,51,58,40,39,30,43,43,38,33,33,41,37,32,47,59,51,32,38,43,26,46,38,54,60,54,50,46,25,50,54,49,45,54,53,28,51,34,36,51,55,50,45,51,46,37,56,50,54,46,53,26,61,31,31,65,56,33,43,47,42,27,47,53,42,54,45,38,34,51,64,55,49,28,29,35,79,34,61,60,25,53,49,61,47,75,68,57,38,27,57,39,44,44,46,45,58,63,30,35,40,31,56,30,31,53,40,48],\"type\":\"scatter3d\",\"hovertemplate\":\"Beats Per Minute (BPM): %{x} \\u003cbr\\u003eEnergy: %{y} \\u003cbr\\u003eDanceability: %{z}\"},{\"marker\":{\"line\":{\"width\":1},\"size\":6},\"mode\":\"markers\",\"name\":\"Cluster 7\",\"x\":[109,133,130,142,146,108,149,124,110,122,138,125,119,128,141,124,126,112,110,130,124,113,128,123,134,128,122,120,144,117,146,137,108,131,132,135,155,116,117,131,126,122,131,149,137,124,119,112,126,123,120,144,131,146,129,116,108,146,130,135,147,114,122,146,134,108,123,142,108,148,110,113,143,128,140,132,136,148,128,123,140,122,138,133,125,115,119,145,137,136,109,136,120,116,140,121,136,112,138,138,134,125,126,121,135,123,118,140,133,139,137,135,134,113,129,125,133,121,112,111,114,132,137,117,110,108,116,123,131,125,134,115,110,116,120,121,129,125,142,120,132,130,116,125,113,142,132,139,132,138,119,136,150,135,123,124,138,121,136,126,153,135,131,116,136,127,139,140,119,111,113,129,127,107,132,144,128,112,136,129,121,119],\"y\":[5,42,48,24,44,35,30,59,35,49,44,41,38,37,30,46,17,8,33,41,33,55,52,34,36,30,67,49,44,18,40,33,74,75,29,33,20,33,45,32,32,26,28,20,30,39,26,31,34,54,26,40,22,58,66,39,38,69,44,23,31,44,39,45,41,40,55,28,7,63,41,17,40,32,21,33,33,21,36,38,39,57,48,32,53,31,4,27,53,16,33,55,48,22,24,47,14,36,32,29,52,27,28,37,28,65,17,42,43,45,34,27,23,21,23,67,38,32,32,42,19,7,48,34,8,55,28,41,31,6,38,8,31,31,30,8,16,47,18,32,27,51,83,15,31,28,47,43,53,44,25,46,80,37,36,43,62,36,37,31,23,55,48,19,17,10,28,43,26,24,28,25,18,29,17,26,21,52,6,44,3,24],\"z\":[44,42,55,34,56,47,33,47,39,35,46,67,52,61,71,56,33,53,63,61,76,67,64,45,67,48,63,60,47,54,38,51,59,58,54,56,42,53,49,29,65,39,33,28,59,61,46,62,47,45,42,56,46,47,57,69,61,59,72,40,55,37,58,54,46,49,55,59,52,49,50,68,44,55,59,30,50,33,38,44,43,39,53,42,68,55,47,40,60,44,56,43,36,28,25,56,45,48,26,27,40,62,55,51,30,55,43,32,39,59,54,55,35,38,42,42,51,50,38,56,69,19,49,65,52,63,44,70,50,41,44,67,67,32,46,50,63,60,44,74,32,57,64,59,65,39,57,57,58,50,54,53,29,24,30,42,63,57,53,45,38,44,30,56,54,34,49,44,67,60,33,34,56,55,41,36,38,46,32,54,31,75],\"type\":\"scatter3d\",\"hovertemplate\":\"Beats Per Minute (BPM): %{x} \\u003cbr\\u003eEnergy: %{y} \\u003cbr\\u003eDanceability: %{z}\"},{\"marker\":{\"line\":{\"width\":1},\"size\":6},\"mode\":\"markers\",\"name\":\"Cluster 5\",\"x\":[102,117,115,92,92,104,157,160,107,85,136,128,136,130,159,112,104,150,110,96,81,105,114,130,139,90,112,174,131,94,136,100,84,148,114,135,111,92,125,95,147,118,147,130,121,123,104,141,100,134,134,112,78,89,101,135,125,111,117,156,92,91,95,106,133,117,105,119,117,127,129,147,117,113,106,111,144,154,135,120,140,99,120,102,92,134,103,94,109,115,84,92,135,110,106,133,134,122,127,149,163,96,85,122,127],\"y\":[88,93,46,76,69,92,93,74,79,76,85,77,93,32,99,59,86,93,86,63,56,86,89,49,71,66,77,92,83,75,78,47,40,60,93,72,64,88,88,79,68,89,89,50,76,59,51,63,45,51,75,81,68,64,88,89,68,74,93,87,61,82,85,68,64,92,78,75,79,96,94,95,71,45,84,85,91,95,90,32,90,64,34,72,65,82,75,52,59,39,13,29,72,86,85,80,51,98,90,90,46,67,56,72,87],\"z\":[54,38,83,52,76,66,23,27,69,37,58,74,66,53,24,30,54,24,50,66,37,64,59,41,82,54,65,55,43,65,45,32,70,51,41,76,62,66,56,36,40,76,55,55,61,76,38,41,49,45,29,60,66,57,54,50,46,60,52,56,63,67,60,63,55,64,55,50,61,65,70,26,66,37,46,64,59,35,40,43,23,44,82,59,48,72,35,56,57,62,21,77,27,33,54,52,41,71,56,43,36,45,40,62,41],\"type\":\"scatter3d\",\"hovertemplate\":\"Beats Per Minute (BPM): %{x} \\u003cbr\\u003eEnergy: %{y} \\u003cbr\\u003eDanceability: %{z}\"},{\"marker\":{\"line\":{\"width\":1},\"size\":6},\"mode\":\"markers\",\"name\":\"Cluster 6\",\"x\":[74,88,72,90,77,101,83,61,104,93,79,58,96,99,79,104,100,92,105,76,70,95,83,73,79,67,81,68,90,78,75,82,82,94,83,96,94,82,97,74,91,100,99,85,80,82,79,89,76,78,85,73,76,78,93,80,84,86,85,95,78,100,106,90,72,105,98,84,90,90,103,90,86,82,87,87,89,73,97,72,106,91,96,98,80,99,92,76,89,82,76,92,80,87,92,83,105,86,60,73,90,83,92,100,79,81,105,37,68,81,96,102,90,67,84,76,84,73,61,90,79,81,79,90,86,94,104,101,91,96,82,85,87,95,98,82,84,102,87,94,81,92,75,87,81,89,94,67,74,105,84,97,90,78,73,73,87,98,99,71,70,100,94,99,76,89,77,81,80,99,84,91,77,87,100,66,107,97,95,79,80,83,93,81,85,95,105,90,94,77,83,63,89,86,75,75],\"y\":[65,20,21,26,18,24,25,13,44,37,36,40,38,48,27,29,19,38,44,57,59,26,63,18,48,13,41,47,39,14,41,25,48,50,53,52,18,47,55,17,30,80,19,29,45,52,60,57,55,20,32,28,5,40,41,37,42,28,41,42,40,38,27,21,26,24,21,20,39,24,31,30,22,36,38,25,34,25,38,33,32,32,35,59,21,26,36,35,25,34,26,9,42,11,28,42,32,22,22,30,47,18,53,25,18,25,29,25,45,50,21,33,26,12,56,24,10,26,25,14,27,25,44,55,51,13,6,31,27,32,20,50,35,20,42,38,37,56,33,35,42,13,19,40,49,26,32,21,30,67,37,14,26,31,34,40,33,37,29,58,13,33,9,28,40,77,13,20,9,29,48,22,17,35,29,9,22,18,72,33,14,75,38,24,48,40,55,38,13,17,43,13,27,62,38,66],\"z\":[62,73,46,43,55,42,42,27,29,48,53,25,54,59,19,66,48,57,29,46,43,47,41,26,48,47,66,35,53,26,33,53,68,51,66,32,56,41,74,33,28,59,65,64,31,43,51,53,35,24,52,61,63,57,67,56,42,32,17,50,54,61,72,12,35,61,61,59,52,59,40,64,43,28,35,41,71,49,40,45,52,76,51,82,15,71,41,61,53,34,55,42,48,70,70,47,57,54,23,36,37,30,39,55,33,25,46,27,44,69,57,34,25,16,53,18,55,52,49,27,34,39,22,50,71,60,49,61,40,61,32,42,39,54,52,68,45,78,63,64,15,63,49,14,53,52,47,31,43,42,54,32,75,51,44,41,52,48,49,39,35,43,48,43,34,41,44,37,46,27,50,69,50,27,40,36,53,33,48,40,22,39,49,54,20,54,52,42,69,27,48,53,40,32,40,40],\"type\":\"scatter3d\",\"hovertemplate\":\"Beats Per Minute (BPM): %{x} \\u003cbr\\u003eEnergy: %{y} \\u003cbr\\u003eDanceability: %{z}\"},{\"marker\":{\"line\":{\"width\":1},\"size\":6},\"mode\":\"markers\",\"name\":\"Cluster 1\",\"x\":[122,119,86,100,131,124,121,123,98,131,115,129,123,115,129,100,87,108,138,123,92,113,123,117,136,115,129,105,120,106,86,131,112,127,79,83,135,109,127,109,96,108,122,128,105,131,81,126,106,100,93,93,118,127,103,86,139,93,129,131,81,92,139,123,134,109,128,99,143,121,111,132,83,134,128,77,111,117,148,106,81,141,95,130,107,111,100,121,130,77,93,129,98,125,105,110,101,121,120,75,104,122,127,116,77,129,103,118,82,145,79,114,112,107,93,114,121,101,117,83,127,129,132,89,115,115,106,129,113,112,119,118,111,111,102,106,105,127,115,119,115,81,113,132,108,114,119,98,115,143,137,89,92,121,122,99,145,95,118,127,104,108,125,135,138,117,97,103,120,112,138,112,126,100,110,81,125,114,125,119,103,140,114,130,80,115,132,104,133,92,110,119,128,108,109,95,94,133],\"y\":[87,53,56,55,72,55,41,69,62,71,61,59,63,55,51,83,68,75,89,73,81,42,71,41,65,59,50,46,75,35,75,24,65,33,45,58,33,59,47,33,65,61,40,54,47,41,49,60,74,57,84,49,39,41,88,52,97,46,57,50,86,42,67,51,26,78,69,57,63,19,40,48,45,51,57,29,54,65,93,54,54,76,56,73,43,53,75,69,70,56,46,45,65,39,38,71,88,57,76,66,37,57,79,26,76,84,72,63,40,51,35,71,42,66,51,71,67,94,45,88,52,72,82,45,57,70,66,46,25,80,81,71,68,69,35,52,55,39,31,65,69,65,40,49,53,39,70,54,75,48,49,65,64,95,51,47,28,87,31,60,59,44,85,63,58,29,78,44,47,61,28,44,75,68,46,35,63,39,73,47,48,24,66,60,78,48,58,37,36,46,64,63,76,54,90,66,21,50],\"z\":[64,68,44,59,49,50,83,69,66,78,67,93,65,54,69,71,57,62,56,48,70,74,87,71,64,66,86,52,62,64,52,75,81,79,78,27,65,41,76,67,83,57,43,33,72,55,50,73,63,74,64,44,47,71,76,61,54,45,61,42,44,81,57,65,54,45,56,56,57,41,63,69,60,51,58,59,67,54,44,76,48,37,79,70,65,35,56,78,48,66,81,75,69,48,84,80,78,80,63,53,55,87,46,67,60,65,92,76,65,52,62,67,82,45,62,57,60,54,82,56,55,60,70,62,59,68,65,78,68,65,62,73,79,58,67,72,75,74,69,32,57,52,69,72,91,57,67,64,48,66,76,87,56,70,48,87,81,60,65,62,66,50,48,42,65,58,41,69,46,55,58,55,57,51,49,48,39,63,41,70,40,70,60,66,53,68,50,77,59,61,52,63,69,86,43,56,70,49],\"type\":\"scatter3d\",\"hovertemplate\":\"Beats Per Minute (BPM): %{x} \\u003cbr\\u003eEnergy: %{y} \\u003cbr\\u003eDanceability: %{z}\"}],                        {\"template\":{\"data\":{\"histogram2dcontour\":[{\"type\":\"histogram2dcontour\",\"colorbar\":{\"outlinewidth\":0,\"ticks\":\"\"},\"colorscale\":[[0.0,\"#0d0887\"],[0.1111111111111111,\"#46039f\"],[0.2222222222222222,\"#7201a8\"],[0.3333333333333333,\"#9c179e\"],[0.4444444444444444,\"#bd3786\"],[0.5555555555555556,\"#d8576b\"],[0.6666666666666666,\"#ed7953\"],[0.7777777777777778,\"#fb9f3a\"],[0.8888888888888888,\"#fdca26\"],[1.0,\"#f0f921\"]]}],\"choropleth\":[{\"type\":\"choropleth\",\"colorbar\":{\"outlinewidth\":0,\"ticks\":\"\"}}],\"histogram2d\":[{\"type\":\"histogram2d\",\"colorbar\":{\"outlinewidth\":0,\"ticks\":\"\"},\"colorscale\":[[0.0,\"#0d0887\"],[0.1111111111111111,\"#46039f\"],[0.2222222222222222,\"#7201a8\"],[0.3333333333333333,\"#9c179e\"],[0.4444444444444444,\"#bd3786\"],[0.5555555555555556,\"#d8576b\"],[0.6666666666666666,\"#ed7953\"],[0.7777777777777778,\"#fb9f3a\"],[0.8888888888888888,\"#fdca26\"],[1.0,\"#f0f921\"]]}],\"heatmap\":[{\"type\":\"heatmap\",\"colorbar\":{\"outlinewidth\":0,\"ticks\":\"\"},\"colorscale\":[[0.0,\"#0d0887\"],[0.1111111111111111,\"#46039f\"],[0.2222222222222222,\"#7201a8\"],[0.3333333333333333,\"#9c179e\"],[0.4444444444444444,\"#bd3786\"],[0.5555555555555556,\"#d8576b\"],[0.6666666666666666,\"#ed7953\"],[0.7777777777777778,\"#fb9f3a\"],[0.8888888888888888,\"#fdca26\"],[1.0,\"#f0f921\"]]}],\"heatmapgl\":[{\"type\":\"heatmapgl\",\"colorbar\":{\"outlinewidth\":0,\"ticks\":\"\"},\"colorscale\":[[0.0,\"#0d0887\"],[0.1111111111111111,\"#46039f\"],[0.2222222222222222,\"#7201a8\"],[0.3333333333333333,\"#9c179e\"],[0.4444444444444444,\"#bd3786\"],[0.5555555555555556,\"#d8576b\"],[0.6666666666666666,\"#ed7953\"],[0.7777777777777778,\"#fb9f3a\"],[0.8888888888888888,\"#fdca26\"],[1.0,\"#f0f921\"]]}],\"contourcarpet\":[{\"type\":\"contourcarpet\",\"colorbar\":{\"outlinewidth\":0,\"ticks\":\"\"}}],\"contour\":[{\"type\":\"contour\",\"colorbar\":{\"outlinewidth\":0,\"ticks\":\"\"},\"colorscale\":[[0.0,\"#0d0887\"],[0.1111111111111111,\"#46039f\"],[0.2222222222222222,\"#7201a8\"],[0.3333333333333333,\"#9c179e\"],[0.4444444444444444,\"#bd3786\"],[0.5555555555555556,\"#d8576b\"],[0.6666666666666666,\"#ed7953\"],[0.7777777777777778,\"#fb9f3a\"],[0.8888888888888888,\"#fdca26\"],[1.0,\"#f0f921\"]]}],\"surface\":[{\"type\":\"surface\",\"colorbar\":{\"outlinewidth\":0,\"ticks\":\"\"},\"colorscale\":[[0.0,\"#0d0887\"],[0.1111111111111111,\"#46039f\"],[0.2222222222222222,\"#7201a8\"],[0.3333333333333333,\"#9c179e\"],[0.4444444444444444,\"#bd3786\"],[0.5555555555555556,\"#d8576b\"],[0.6666666666666666,\"#ed7953\"],[0.7777777777777778,\"#fb9f3a\"],[0.8888888888888888,\"#fdca26\"],[1.0,\"#f0f921\"]]}],\"mesh3d\":[{\"type\":\"mesh3d\",\"colorbar\":{\"outlinewidth\":0,\"ticks\":\"\"}}],\"scatter\":[{\"fillpattern\":{\"fillmode\":\"overlay\",\"size\":10,\"solidity\":0.2},\"type\":\"scatter\"}],\"parcoords\":[{\"type\":\"parcoords\",\"line\":{\"colorbar\":{\"outlinewidth\":0,\"ticks\":\"\"}}}],\"scatterpolargl\":[{\"type\":\"scatterpolargl\",\"marker\":{\"colorbar\":{\"outlinewidth\":0,\"ticks\":\"\"}}}],\"bar\":[{\"error_x\":{\"color\":\"#2a3f5f\"},\"error_y\":{\"color\":\"#2a3f5f\"},\"marker\":{\"line\":{\"color\":\"#E5ECF6\",\"width\":0.5},\"pattern\":{\"fillmode\":\"overlay\",\"size\":10,\"solidity\":0.2}},\"type\":\"bar\"}],\"scattergeo\":[{\"type\":\"scattergeo\",\"marker\":{\"colorbar\":{\"outlinewidth\":0,\"ticks\":\"\"}}}],\"scatterpolar\":[{\"type\":\"scatterpolar\",\"marker\":{\"colorbar\":{\"outlinewidth\":0,\"ticks\":\"\"}}}],\"histogram\":[{\"marker\":{\"pattern\":{\"fillmode\":\"overlay\",\"size\":10,\"solidity\":0.2}},\"type\":\"histogram\"}],\"scattergl\":[{\"type\":\"scattergl\",\"marker\":{\"colorbar\":{\"outlinewidth\":0,\"ticks\":\"\"}}}],\"scatter3d\":[{\"type\":\"scatter3d\",\"line\":{\"colorbar\":{\"outlinewidth\":0,\"ticks\":\"\"}},\"marker\":{\"colorbar\":{\"outlinewidth\":0,\"ticks\":\"\"}}}],\"scattermapbox\":[{\"type\":\"scattermapbox\",\"marker\":{\"colorbar\":{\"outlinewidth\":0,\"ticks\":\"\"}}}],\"scatterternary\":[{\"type\":\"scatterternary\",\"marker\":{\"colorbar\":{\"outlinewidth\":0,\"ticks\":\"\"}}}],\"scattercarpet\":[{\"type\":\"scattercarpet\",\"marker\":{\"colorbar\":{\"outlinewidth\":0,\"ticks\":\"\"}}}],\"carpet\":[{\"aaxis\":{\"endlinecolor\":\"#2a3f5f\",\"gridcolor\":\"white\",\"linecolor\":\"white\",\"minorgridcolor\":\"white\",\"startlinecolor\":\"#2a3f5f\"},\"baxis\":{\"endlinecolor\":\"#2a3f5f\",\"gridcolor\":\"white\",\"linecolor\":\"white\",\"minorgridcolor\":\"white\",\"startlinecolor\":\"#2a3f5f\"},\"type\":\"carpet\"}],\"table\":[{\"cells\":{\"fill\":{\"color\":\"#EBF0F8\"},\"line\":{\"color\":\"white\"}},\"header\":{\"fill\":{\"color\":\"#C8D4E3\"},\"line\":{\"color\":\"white\"}},\"type\":\"table\"}],\"barpolar\":[{\"marker\":{\"line\":{\"color\":\"#E5ECF6\",\"width\":0.5},\"pattern\":{\"fillmode\":\"overlay\",\"size\":10,\"solidity\":0.2}},\"type\":\"barpolar\"}],\"pie\":[{\"automargin\":true,\"type\":\"pie\"}]},\"layout\":{\"autotypenumbers\":\"strict\",\"colorway\":[\"#636efa\",\"#EF553B\",\"#00cc96\",\"#ab63fa\",\"#FFA15A\",\"#19d3f3\",\"#FF6692\",\"#B6E880\",\"#FF97FF\",\"#FECB52\"],\"font\":{\"color\":\"#2a3f5f\"},\"hovermode\":\"closest\",\"hoverlabel\":{\"align\":\"left\"},\"paper_bgcolor\":\"white\",\"plot_bgcolor\":\"#E5ECF6\",\"polar\":{\"bgcolor\":\"#E5ECF6\",\"angularaxis\":{\"gridcolor\":\"white\",\"linecolor\":\"white\",\"ticks\":\"\"},\"radialaxis\":{\"gridcolor\":\"white\",\"linecolor\":\"white\",\"ticks\":\"\"}},\"ternary\":{\"bgcolor\":\"#E5ECF6\",\"aaxis\":{\"gridcolor\":\"white\",\"linecolor\":\"white\",\"ticks\":\"\"},\"baxis\":{\"gridcolor\":\"white\",\"linecolor\":\"white\",\"ticks\":\"\"},\"caxis\":{\"gridcolor\":\"white\",\"linecolor\":\"white\",\"ticks\":\"\"}},\"coloraxis\":{\"colorbar\":{\"outlinewidth\":0,\"ticks\":\"\"}},\"colorscale\":{\"sequential\":[[0.0,\"#0d0887\"],[0.1111111111111111,\"#46039f\"],[0.2222222222222222,\"#7201a8\"],[0.3333333333333333,\"#9c179e\"],[0.4444444444444444,\"#bd3786\"],[0.5555555555555556,\"#d8576b\"],[0.6666666666666666,\"#ed7953\"],[0.7777777777777778,\"#fb9f3a\"],[0.8888888888888888,\"#fdca26\"],[1.0,\"#f0f921\"]],\"sequentialminus\":[[0.0,\"#0d0887\"],[0.1111111111111111,\"#46039f\"],[0.2222222222222222,\"#7201a8\"],[0.3333333333333333,\"#9c179e\"],[0.4444444444444444,\"#bd3786\"],[0.5555555555555556,\"#d8576b\"],[0.6666666666666666,\"#ed7953\"],[0.7777777777777778,\"#fb9f3a\"],[0.8888888888888888,\"#fdca26\"],[1.0,\"#f0f921\"]],\"diverging\":[[0,\"#8e0152\"],[0.1,\"#c51b7d\"],[0.2,\"#de77ae\"],[0.3,\"#f1b6da\"],[0.4,\"#fde0ef\"],[0.5,\"#f7f7f7\"],[0.6,\"#e6f5d0\"],[0.7,\"#b8e186\"],[0.8,\"#7fbc41\"],[0.9,\"#4d9221\"],[1,\"#276419\"]]},\"xaxis\":{\"gridcolor\":\"white\",\"linecolor\":\"white\",\"ticks\":\"\",\"title\":{\"standoff\":15},\"zerolinecolor\":\"white\",\"automargin\":true,\"zerolinewidth\":2},\"yaxis\":{\"gridcolor\":\"white\",\"linecolor\":\"white\",\"ticks\":\"\",\"title\":{\"standoff\":15},\"zerolinecolor\":\"white\",\"automargin\":true,\"zerolinewidth\":2},\"scene\":{\"xaxis\":{\"backgroundcolor\":\"#E5ECF6\",\"gridcolor\":\"white\",\"linecolor\":\"white\",\"showbackground\":true,\"ticks\":\"\",\"zerolinecolor\":\"white\",\"gridwidth\":2},\"yaxis\":{\"backgroundcolor\":\"#E5ECF6\",\"gridcolor\":\"white\",\"linecolor\":\"white\",\"showbackground\":true,\"ticks\":\"\",\"zerolinecolor\":\"white\",\"gridwidth\":2},\"zaxis\":{\"backgroundcolor\":\"#E5ECF6\",\"gridcolor\":\"white\",\"linecolor\":\"white\",\"showbackground\":true,\"ticks\":\"\",\"zerolinecolor\":\"white\",\"gridwidth\":2}},\"shapedefaults\":{\"line\":{\"color\":\"#2a3f5f\"}},\"annotationdefaults\":{\"arrowcolor\":\"#2a3f5f\",\"arrowhead\":0,\"arrowwidth\":1},\"geo\":{\"bgcolor\":\"white\",\"landcolor\":\"#E5ECF6\",\"subunitcolor\":\"white\",\"showland\":true,\"showlakes\":true,\"lakecolor\":\"white\"},\"title\":{\"x\":0.05},\"mapbox\":{\"style\":\"light\"}}},\"scene\":{\"xaxis\":{\"title\":{\"text\":\"Beats Per Minute (BPM)\",\"font\":{\"color\":\"black\"}}},\"yaxis\":{\"title\":{\"text\":\"Energy\",\"font\":{\"color\":\"black\"}}},\"zaxis\":{\"title\":{\"text\":\"Danceability\",\"font\":{\"color\":\"black\"}}}},\"font\":{\"family\":\"Gilroy\",\"color\":\"black\",\"size\":12},\"width\":800,\"height\":800,\"autosize\":true,\"showlegend\":true},                        {\"responsive\": true}                    ).then(function(){\n",
              "                            \n",
              "var gd = document.getElementById('c3718179-ee05-4d43-9717-a3928f10fbc2');\n",
              "var x = new MutationObserver(function (mutations, observer) {{\n",
              "        var display = window.getComputedStyle(gd).display;\n",
              "        if (!display || display === 'none') {{\n",
              "            console.log([gd, 'removed!']);\n",
              "            Plotly.purge(gd);\n",
              "            observer.disconnect();\n",
              "        }}\n",
              "}});\n",
              "\n",
              "// Listen for the removal of the full notebook cells\n",
              "var notebookContainer = gd.closest('#notebook-container');\n",
              "if (notebookContainer) {{\n",
              "    x.observe(notebookContainer, {childList: true});\n",
              "}}\n",
              "\n",
              "// Listen for the clearing of the current output cell\n",
              "var outputEl = gd.closest('.output');\n",
              "if (outputEl) {{\n",
              "    x.observe(outputEl, {childList: true});\n",
              "}}\n",
              "\n",
              "                        })                };                            </script>        </div>\n",
              "</body>\n",
              "</html>"
            ]
          },
          "metadata": {}
        }
      ]
    },
    {
      "cell_type": "markdown",
      "source": [
        "So this is how we can perform cluster analysis of music genres with machine learning."
      ],
      "metadata": {
        "id": "WZ_BuXPPMUdP"
      }
    }
  ]
}